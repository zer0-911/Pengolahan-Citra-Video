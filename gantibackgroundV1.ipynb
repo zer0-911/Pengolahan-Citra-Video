{
 "cells": [
  {
   "cell_type": "markdown",
   "metadata": {},
   "source": [
    "# Penjelasan"
   ]
  },
  {
   "cell_type": "markdown",
   "metadata": {},
   "source": [
    "Library yang digunakan adalah os, opencv, numpy, dan mediapipe .\n",
    "\n"
   ]
  },
  {
   "cell_type": "code",
   "execution_count": 4,
   "metadata": {},
   "outputs": [],
   "source": [
    "import cv2 as cv\n",
    "import numpy as np\n",
    "import mediapipe as mp"
   ]
  },
  {
   "cell_type": "markdown",
   "metadata": {},
   "source": [
    "Modul atau library `cv2` atau dapat disebut OpenCV (Open Source Computer Vision Library) adalah perpustakaan fungsi pemrograman yang terutama ditujukan untuk visi komputer waktu nyata."
   ]
  },
  {
   "cell_type": "markdown",
   "metadata": {},
   "source": [
    "Modul atau library `numpy` adalah modul yang menyediakan fungsi-fungsi matematika yang bergantung pada array multidimensi. NumPy merupakan singkatan dari Numerical Python. NumPy merupakan salah satu library Python yang berfungsi untuk proses komputasi numerik. NumPy memiliki kemampuan untuk membuat objek N-dimensi array. Array merupakan sekumpulan variabel yang memiliki tipe data yang sama. Kelebihan dari NumPy Array adalah dapat memudahkan operasi komputasi pada data."
   ]
  },
  {
   "cell_type": "markdown",
   "metadata": {},
   "source": [
    "Modul atau library `mediapipe` adalah modul yang menyediakan fungsi-fungsi yang bergantung pada pipeline yang dibuat oleh Google. MediaPipe menawarkan solusi ML lintas platform yang dapat disesuaikan untuk media live dan streaming."
   ]
  },
  {
   "cell_type": "markdown",
   "metadata": {},
   "source": [
    "Menyimpan gambar latar belakang."
   ]
  },
  {
   "cell_type": "code",
   "execution_count": 5,
   "metadata": {},
   "outputs": [],
   "source": [
    "bg_image = cv.imread(\"img/1.jpg\")"
   ]
  },
  {
   "cell_type": "markdown",
   "metadata": {},
   "source": [
    "selfie segmentation adalah menyegmentasikan wajah yang ada di dalam frame. Atau dapat disebut dengan menyeleksi orang yang ada di dalam frame."
   ]
  },
  {
   "cell_type": "code",
   "execution_count": 6,
   "metadata": {},
   "outputs": [],
   "source": [
    "mp_selfie_segmentation = mp.solutions.selfie_segmentation\n",
    "selfie_segmentation = mp_selfie_segmentation.SelfieSegmentation(\n",
    "    model_selection=1)"
   ]
  },
  {
   "cell_type": "code",
   "execution_count": 7,
   "metadata": {},
   "outputs": [
    {
     "name": "stderr",
     "output_type": "stream",
     "text": [
      "INFO: Created TensorFlow Lite XNNPACK delegate for CPU.\n"
     ]
    }
   ],
   "source": [
    "# Membuat objek video capture untuk membaca video dari kamera webcam.\n",
    "cap = cv.VideoCapture(0)\n",
    "while cap.isOpened():\n",
    "    _, frame = cap.read()\n",
    "    # Membalik frame ke arah horizontal\n",
    "    frame = cv.flip(frame, 1)\n",
    "    height, width, channel = frame.shape\n",
    "    # Membuat objek frame yang akan dikirim ke mediapipe, sebelum itu dirubah dulu warna menjadi RGB.\n",
    "    RGB = cv.cvtColor(frame, cv.COLOR_BGR2RGB)\n",
    "    # Mendapatkan hasil\n",
    "    results = selfie_segmentation.process(RGB)\n",
    "    # extract segmented mask\n",
    "    mask = results.segmentation_mask\n",
    "    # Mengeluarkan output dari hasil segmentasi mask\n",
    "    cv.imshow(\"mask\", mask)\n",
    "    key = cv.waitKey(1)\n",
    "    if key == ord('q'):\n",
    "        break\n",
    "    condition = np.stack(\n",
    "        (results.segmentation_mask,) * 3, axis=-1) > 0.5\n",
    "    # Mengubah ukuran gambar latar belakang ke ukuran yang sama dengan frame asli\n",
    "    bg_image = cv.resize(bg_image, (width, height))\n",
    "    # menyatukan frame dengan background image (latar belakang)\n",
    "    output_image = np.where(condition, frame, bg_image)\n",
    "    cv.imshow(\"Output\", output_image)\n",
    "    cv.imshow(\"Frame\", frame)\n",
    "    if key == ord('q'):\n",
    "        break\n",
    "        # jika 'c' ditekan, maka gambar latar belakang akan diganti dengan gambar yang baru\n",
    "    elif key == ord('c'):\n",
    "        bg_image = cv.imread('img/quito.jpg')"
   ]
  }
 ],
 "metadata": {
  "interpreter": {
   "hash": "e7370f93d1d0cde622a1f8e1c04877d8463912d04d973331ad4851f04de6915a"
  },
  "kernelspec": {
   "display_name": "Python 3 (ipykernel)",
   "language": "python",
   "name": "python3"
  },
  "language_info": {
   "codemirror_mode": {
    "name": "ipython",
    "version": 3
   },
   "file_extension": ".py",
   "mimetype": "text/x-python",
   "name": "python",
   "nbconvert_exporter": "python",
   "pygments_lexer": "ipython3",
   "version": "3.8.10"
  }
 },
 "nbformat": 4,
 "nbformat_minor": 2
}
