{
 "cells": [
  {
   "cell_type": "code",
   "execution_count": 1,
   "metadata": {},
   "outputs": [],
   "source": [
    "import numpy as np\n",
    "import matplotlib.pyplot as plt\n",
    "import cv2 as cv"
   ]
  },
  {
   "cell_type": "code",
   "execution_count": 2,
   "metadata": {},
   "outputs": [],
   "source": [
    "# Menangkap kamera di laptop\n",
    "# 0 = webcam yang ada di kamera utama, misal ada kamera tambahan bisa diganti sesuai dengan input kamera yang ada\n",
    "cap = cv.VideoCapture(0)\n",
    "\n",
    "while True:\n",
    "    # Mendapatkan frame setiap detik\n",
    "    ret, frame = cap.read()\n",
    "    cv.imshow('frame3', frame)\n",
    "  \n",
    "    if cv.waitKey(1) == ord('q'):\n",
    "        break\n",
    "cap.release()\n",
    "cv.destroyAllWindows()"
   ]
  },
  {
   "cell_type": "markdown",
   "metadata": {},
   "source": [
    "RGB adalah bentuk warna dari cahaya\n",
    "CMYK,  K agar menjadi hitam\n",
    "warna murni adalah ketika salah satu bernilai 0 dari hsv\n",
    "Saturasi bisa diartikan sebagai tingkat kekotoran\n",
    "\n"
   ]
  },
  {
   "cell_type": "code",
   "execution_count": 4,
   "metadata": {},
   "outputs": [],
   "source": [
    "# Penghapusan warna\n",
    "f = cv.imread('img/bunga.jpg')\n",
    "hsv = np.double(cv.cvtColor(f, cv.COLOR_BGR2HSV))\n",
    "\n",
    "lower_bound = np.array([90, 0, 0], dtype=np.uint8)\n",
    "upper_bound = np.array([150, 255, 255], dtype=np.uint8)\n",
    "mask = cv.inRange(hsv, lower_bound, upper_bound)\n",
    "mask0 = cv.bitwise_not(mask)\n",
    "output_img1 = cv.bitwise_and(f, f, mask=mask0)\n",
    "\n",
    "cv.imshow('frame', f)\n",
    "cv.imshow('mask', mask)\n",
    "cv.imshow('mask1', output_img1)\n",
    "\n",
    "ch = cv.waitKey(0) & 0xFF\n",
    "cv.destroyAllWindows()"
   ]
  },
  {
   "cell_type": "code",
   "execution_count": null,
   "metadata": {},
   "outputs": [],
   "source": [
    "# Penghapusan warna dengan video\n",
    "cap = cv.VideoCapture(0)\n",
    "\n",
    "while True:\n",
    "    # Mendapatkan frame setiap detik\n",
    "    ret, frame = cap.read()\n",
    "    hsv = cv.cvtColor(frame, cv.COLOR_BGR2HSV)\n",
    "\n",
    "    lower_bound = np.array([90, 0, 0], dtype=np.uint8)\n",
    "    upper_bound = np.array([150, 255, 255], dtype=np.uint8)\n",
    "    mask = cv.inRange(hsv, lower_bound, upper_bound)\n",
    "    mask0 = cv.bitwise_not(mask)\n",
    "    output_img1 = cv.bitwise_and(frame, frame, mask=mask0)\n",
    "\n",
    "    cv.imshow('frame', output_img1)\n",
    "\n",
    "    if cv.waitKey(1) == ord('q'):\n",
    "        break\n",
    "cap.release()\n",
    "cv.destroyAllWindows()"
   ]
  },
  {
   "cell_type": "code",
   "execution_count": null,
   "metadata": {},
   "outputs": [],
   "source": [
    "# Penghapusan warna dan mengganti dengan gambar lain metode saya\n",
    "f = cv.imread('img/bunga.jpeg')\n",
    "f2 = cv.imread('img/its.jpg')\n",
    "print('This image is:', type(f),\n",
    "      ' with dimensions:', f.shape)\n",
    "hsv = np.double(cv.cvtColor(f, cv.COLOR_BGR2HSV))\n",
    "height, width, channels = f.shape\n",
    "down_points = (width, height)\n",
    "resized_down = cv.resize(f2, down_points, interpolation=cv.INTER_LINEAR)\n",
    "lower_bound = np.array([90, 0, 0], dtype=np.uint8)\n",
    "upper_bound = np.array([150, 255, 255], dtype=np.uint8)\n",
    "mask = cv.inRange(hsv, lower_bound, upper_bound)\n",
    "mask0 = cv.bitwise_not(mask)\n",
    "output_img1 = cv.bitwise_and(f, f, mask=mask0)\n",
    "background_image = cv.cvtColor(f2, cv.COLOR_BGR2RGB)\n",
    "crop_background = background_image[0:height, 0:width]\n",
    "\n",
    "crop_background[mask == 0] = [0, 0, 0]\n",
    "complete_image = output_img1 + crop_background\n",
    "\n",
    "cv.imshow('gambarasli', f)\n",
    "cv.imshow('resizeimage', resized_down)\n",
    "cv.imshow('maskingimage', output_img1)\n",
    "cv.imshow('gambarjadi', complete_image)\n",
    "\n",
    "ch = cv.waitKey(0) & 0xFF\n",
    "cv.destroyAllWindows()"
   ]
  },
  {
   "cell_type": "code",
   "execution_count": null,
   "metadata": {},
   "outputs": [],
   "source": [
    "# Penghapusan warna dan mengganti dengan gambar lain metode bapak akok\n",
    "f = cv.imread('img/bunga.jpeg')\n",
    "f2 = cv.imread('img/its.jpg')\n",
    "b, c, d = f.shape\n",
    "hsv = np.double(cv.cvtColor(f, cv.COLOR_BGR2HSV))\n",
    "f2 = cv.resize(f2, (c, b), interpolation=cv.INTER_LINEAR)\n",
    "lower_bound = np.array([90, 0, 0], dtype=np.uint8)\n",
    "upper_bound = np.array([150, 255, 255], dtype=np.uint8)\n",
    "mask0 = cv.inRange(hsv, lower_bound, upper_bound)\n",
    "\n",
    "output_img1 = cv.bitwise_and(f2, f2, mask=mask0)\n",
    "mask1 = cv.bitwise_not(mask0)\n",
    "output_img2 = cv.bitwise_and(f, f, mask=mask1)\n",
    "fg = cv.add(output_img1, output_img2)\n",
    "\n",
    "\n",
    "cv.imshow('gambarasli', f)\n",
    "cv.imshow('gambarjadi', fg)\n",
    "ch = cv.waitKey(0) & 0xFF\n",
    "cv.destroyAllWindows()"
   ]
  }
 ],
 "metadata": {
  "interpreter": {
   "hash": "916dbcbb3f70747c44a77c7bcd40155683ae19c65e1c03b4aa3499c5328201f1"
  },
  "kernelspec": {
   "display_name": "Python 3.8.10 64-bit",
   "language": "python",
   "name": "python3"
  },
  "language_info": {
   "codemirror_mode": {
    "name": "ipython",
    "version": 3
   },
   "file_extension": ".py",
   "mimetype": "text/x-python",
   "name": "python",
   "nbconvert_exporter": "python",
   "pygments_lexer": "ipython3",
   "version": "3.8.10"
  },
  "orig_nbformat": 4
 },
 "nbformat": 4,
 "nbformat_minor": 2
}
