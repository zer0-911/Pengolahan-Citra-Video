{
 "cells": [
  {
   "cell_type": "markdown",
   "metadata": {},
   "source": [
    "# 2 Maret 2022\n",
    "Image Enhancement \\\\\n",
    "Image Recontrustion \\\\\n",
    "Morphology\n",
    "\n",
    "Kenapa 255 -> tipe data unsign int 8\n",
    "\n",
    "\n",
    "\n"
   ]
  },
  {
   "cell_type": "code",
   "execution_count": 1,
   "metadata": {},
   "outputs": [],
   "source": [
    "import numpy as np\n",
    "from matplotlib import pyplot as plt\n",
    "import cv2 as cv"
   ]
  },
  {
   "cell_type": "code",
   "execution_count": null,
   "metadata": {},
   "outputs": [],
   "source": [
    "# First Code untuk open image\n",
    "img = cv.imread('img/lenna.png', 0)\n",
    "#im = np.double(cv2.cvtColor(img, cv2.COLOR_BGR2GRAY))/255\n",
    "# c=0.7\n",
    "\n",
    "\n",
    "\n",
    "#for i in range(im.shape[0]): \n",
    "#    for j in range(im.shape[1]):   \n",
    "#        im[i,j]=im[i,j]+c\n",
    "        \n",
    " \n",
    "#im = im+c\n",
    "\n",
    "       \n",
    "        \n",
    "        \n",
    "cv.imshow('frame', img)\n",
    "        \n",
    "ch= cv.waitKey(0) & 0xFF"
   ]
  },
  {
   "cell_type": "code",
   "execution_count": null,
   "metadata": {},
   "outputs": [],
   "source": [
    "# Cara susah untuk membuat warna abu-abu\n",
    "img = np.double(cv.imread('img/lenna.png'))/255\n",
    "imb = np.zeros([512, 512, 3])\n",
    "\n",
    "for i in range(512):\n",
    "    for j in range(512):\n",
    "        w = (img[i, j, 0]+img[i, j, 1]+img[i, j, 2])/3\n",
    "        imb[i, j, 0] = w\n",
    "        imb[i, j, 1] = w\n",
    "        imb[i, j, 2] = w\n",
    "\n",
    "cv.imshow('frame1', img)\n",
    "cv.imshow('frame2', imb)\n",
    "ch = cv.waitKey(0) & 0xFF\n",
    "cv.destroyAllWindows()"
   ]
  },
  {
   "cell_type": "code",
   "execution_count": null,
   "metadata": {},
   "outputs": [],
   "source": [
    "# Cara gampang untuk membuat warna abu-abu\n",
    "img = cv.imread('img/lenna.png')\n",
    "img = cv.cvtColor(img, cv.COLOR_BGR2GRAY)\n",
    "cv.imshow('frame1', img)\n",
    "\n",
    "ch = cv.waitKey(0) & 0xFF\n",
    "cv.destroyAllWindows()"
   ]
  },
  {
   "cell_type": "code",
   "execution_count": null,
   "metadata": {},
   "outputs": [],
   "source": [
    "# # Cara susah untuk mengatur brightness\n",
    "img = np.double(cv.imread('img/lenna.png'))/255\n",
    "imb = np.zeros([512, 512, 3])\n",
    "imbri = np.zeros([512, 512, 3])\n",
    "c = 0.5\n",
    "for i in range(512):\n",
    "    for j in range(512):\n",
    "        imbri[i, j, 0] = img[i, j, 0] + c\n",
    "        imbri[i, j, 1] = img[i, j, 1] + c\n",
    "        imbri[i, j, 2] = img[i, j, 2] + c\n",
    "\n",
    "\n",
    "cv.imshow('frame1', img)\n",
    "cv.imshow('frame3', imbri)\n",
    "ch = cv.waitKey(0) & 0xFF\n",
    "cv.destroyAllWindows()"
   ]
  },
  {
   "cell_type": "code",
   "execution_count": null,
   "metadata": {},
   "outputs": [],
   "source": [
    "# # Cara susah untuk mengatur brightness versi 2\n",
    "img = np.double(cv.imread('img/lenna.png'))/255\n",
    "\n",
    "b,k,w = img.shape\n",
    "\n",
    "imbri =np.zeros([b,k,w])\n",
    "c=-0.3\n",
    "\n",
    "for i in range(b):\n",
    "    for j in range(k):\n",
    "        imbri[i,j,0]=img[i,j,0]+c\n",
    "        imbri[i,j,1]=img[i,j,1]+c\n",
    "        imbri[i,j,2]=img[i,j,2]+c\n",
    "        \n",
    "\n",
    "cv.imshow('frame1', img)\n",
    "\n",
    "cv.imshow('frame3', imbri)\n",
    "\n",
    "ch= cv.waitKey(0) & 0xFF \n",
    "cv.destroyAllWindows()"
   ]
  },
  {
   "cell_type": "code",
   "execution_count": null,
   "metadata": {},
   "outputs": [],
   "source": [
    "# # Cara gampang untuk mengatur brightness\n",
    "img = cv.imread('img/lenna.png')\n",
    "img = np.double(cv.cvtColor(img, cv.COLOR_BGR2GRAY))/255\n",
    "c = 0.5\n",
    "imbr = img-c\n",
    "cv.imshow('frame1', img)\n",
    "cv.imshow('frame2', imbr)\n",
    "ch = cv.waitKey(0) & 0xFF\n",
    "cv.destroyAllWindows()"
   ]
  },
  {
   "cell_type": "code",
   "execution_count": null,
   "metadata": {},
   "outputs": [],
   "source": [
    "# # Cara gampang untuk mengatur kontras\n",
    "img = cv.imread('img/lenna.png')\n",
    "f = np.double(cv.cvtColor(img, cv.COLOR_BGR2GRAY))/255\n",
    "b = 0.4\n",
    "alpha = 2\n",
    "fa = (f-b)*alpha+b\n",
    "cv.imshow('frame', img)\n",
    "cv.imshow('frame1', f)\n",
    "cv.imshow('frame2', fa)\n",
    "ch = cv.waitKey(0) & 0xFF\n",
    "cv.destroyAllWindows()"
   ]
  }
 ],
 "metadata": {
  "interpreter": {
   "hash": "916dbcbb3f70747c44a77c7bcd40155683ae19c65e1c03b4aa3499c5328201f1"
  },
  "kernelspec": {
   "display_name": "Python 3.8.10 64-bit",
   "language": "python",
   "name": "python3"
  },
  "language_info": {
   "codemirror_mode": {
    "name": "ipython",
    "version": 3
   },
   "file_extension": ".py",
   "mimetype": "text/x-python",
   "name": "python",
   "nbconvert_exporter": "python",
   "pygments_lexer": "ipython3",
   "version": "3.8.10"
  },
  "orig_nbformat": 4
 },
 "nbformat": 4,
 "nbformat_minor": 2
}
