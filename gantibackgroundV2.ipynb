{
 "cells": [
  {
   "cell_type": "markdown",
   "metadata": {},
   "source": [
    "# Penjelasan"
   ]
  },
  {
   "cell_type": "markdown",
   "metadata": {},
   "source": [
    "Library yang digunakan adalah opencv dan numpy.\n",
    "\n"
   ]
  },
  {
   "cell_type": "code",
   "execution_count": 1,
   "metadata": {},
   "outputs": [],
   "source": [
    "import cv2 as cv\n",
    "import numpy as np"
   ]
  },
  {
   "cell_type": "markdown",
   "metadata": {},
   "source": [
    "Modul atau library `cv2` atau dapat disebut OpenCV (Open Source Computer Vision Library) adalah perpustakaan fungsi pemrograman yang terutama ditujukan untuk visi komputer waktu nyata."
   ]
  },
  {
   "cell_type": "markdown",
   "metadata": {},
   "source": [
    "Modul atau library `numpy` adalah modul yang menyediakan fungsi-fungsi matematika yang bergantung pada array multidimensi. NumPy merupakan singkatan dari Numerical Python. NumPy merupakan salah satu library Python yang berfungsi untuk proses komputasi numerik. NumPy memiliki kemampuan untuk membuat objek N-dimensi array. Array merupakan sekumpulan variabel yang memiliki tipe data yang sama. Kelebihan dari NumPy Array adalah dapat memudahkan operasi komputasi pada data."
   ]
  },
  {
   "cell_type": "code",
   "execution_count": 2,
   "metadata": {},
   "outputs": [],
   "source": [
    "# Membuat objek video capture untuk membaca video dari kamera webcam.\n",
    "cap = cv.VideoCapture(0)\n",
    "\n",
    "while True:\n",
    "    # Mendapatkan frame setiap detik\n",
    "    ret, frame = cap.read()\n",
    "    # Mengubah warna frame menjadi hsv\n",
    "    hsv = cv.cvtColor(frame, cv.COLOR_BGR2HSV)\n",
    "    f2 = cv.imread('img/1.jpg')\n",
    "    # Medapatkan ukuran dari frame\n",
    "    b, c, d = frame.shape\n",
    "    # Mengubah ukuran gambar latar belakang menjadi ukuran frame\n",
    "    f2 = cv.resize(f2, (c, b), interpolation=cv.INTER_LINEAR)\n",
    "    # Menentukan lower dan upper bound warna (disini menggunakan warna merah)\n",
    "    lower_bound = np.array([136, 87, 111], dtype=np.uint8)\n",
    "    upper_bound = np.array([180, 255, 255], dtype=np.uint8)\n",
    "    mask0 = cv.inRange(hsv, lower_bound, upper_bound)\n",
    "    output_img1 = cv.bitwise_and(f2, f2, mask=mask0)\n",
    "    # Membalik hasil mask\n",
    "    mask1 = cv.bitwise_not(mask0)\n",
    "    output_img2 = cv.bitwise_and(frame, frame, mask=mask1)\n",
    "    # Menggabungkan hasil dari output 1 dan 2\n",
    "    fg = cv.add(output_img1, output_img2)\n",
    "    cv.imshow('hsv', hsv)\n",
    "    cv.imshow('background', f2)\n",
    "    cv.imshow('frame', fg)\n",
    "\n",
    "    if cv.waitKey(1) == ord('q'):\n",
    "        break"
   ]
  }
 ],
 "metadata": {
  "interpreter": {
   "hash": "e7370f93d1d0cde622a1f8e1c04877d8463912d04d973331ad4851f04de6915a"
  },
  "kernelspec": {
   "display_name": "Python 3 (ipykernel)",
   "language": "python",
   "name": "python3"
  },
  "language_info": {
   "codemirror_mode": {
    "name": "ipython",
    "version": 3
   },
   "file_extension": ".py",
   "mimetype": "text/x-python",
   "name": "python",
   "nbconvert_exporter": "python",
   "pygments_lexer": "ipython3",
   "version": "3.8.10"
  }
 },
 "nbformat": 4,
 "nbformat_minor": 2
}
