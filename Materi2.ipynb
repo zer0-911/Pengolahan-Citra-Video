{
 "cells": [
  {
   "cell_type": "markdown",
   "metadata": {},
   "source": [
    "9 Maret 2022"
   ]
  },
  {
   "cell_type": "code",
   "execution_count": 1,
   "metadata": {},
   "outputs": [],
   "source": [
    "import numpy as np\n",
    "import matplotlib.pyplot as plt\n",
    "import cv2 as cv\n"
   ]
  },
  {
   "cell_type": "code",
   "execution_count": 2,
   "metadata": {},
   "outputs": [],
   "source": [
    "# Cara susah untuk blur dengan kernel\n",
    "\n",
    "f = cv.imread('img/lenna.png')\n",
    "img = np.copy(f)\n",
    "f = np.double(cv.cvtColor(f, cv.COLOR_BGR2GRAY))/255\n",
    "b, k = f.shape\n",
    "fa = np.zeros([b, k])  # inisialisasi array dengan isi 0\n",
    "\n",
    "for i in range(1, b-1):\n",
    "    for j in range(1, k-1):\n",
    "        fa[i, j] = f[i, j]*1/9+f[i-1, j]*1/9+f[i+1, j]*1/9+f[i, j-1]*1/9+f[i,\n",
    "                                                                           j+1]*1/9+f[i-1, j-1]*1/9+f[i+1, j+1]*1/9+f[i-1, j+1]*1/9+f[i+1, j-1]*1/9\n",
    "\n",
    "cv.imshow('frame', f)\n",
    "cv.imshow('fa', fa)\n",
    "\n",
    "ch = cv.waitKey(0) & 0xFF\n",
    "cv.destroyAllWindows()"
   ]
  },
  {
   "cell_type": "code",
   "execution_count": null,
   "metadata": {},
   "outputs": [],
   "source": [
    "# Cara sedikit tidak susah untuk blur dengan kernel\n",
    "\n",
    "f = cv.imread('img/lenna.png')\n",
    "img = np.copy(f)\n",
    "f = np.double(cv.cvtColor(f, cv.COLOR_BGR2GRAY))/255\n",
    "# LOW PASS FILTER Mengeluarkan tepi\n",
    "Kn = np.array([[1/9, 1/9, 1/9], [1/9, 1/9, 1/9], [1/9, 1/9, 1/9]])\n",
    "# HIGH PASS FILTER Memunculkan tepi\n",
    "Kn = np.array([[0, -1, 0], [-1, 4, -1], [0, -1, 0]])\n",
    "b, k = f.shape\n",
    "fa = np.zeros([b, k])  # inisialisasi array dengan isi 0\n",
    "for i in range(1, b-1):\n",
    "    for j in range(1, k-1):\n",
    "        for ii in range(-1, 2):\n",
    "            for jj in range(-1, 2):\n",
    "                fa[i, j] = fa[i, j]+f[i+ii, j+jj]*Kn[ii+1, jj+1]\n",
    "\n",
    "\n",
    "cv.imshow('frame', f)\n",
    "cv.imshow('fa', fa)\n",
    "\n",
    "ch = cv.waitKey(0) & 0xFF\n",
    "cv.destroyAllWindows()\n"
   ]
  }
 ],
 "metadata": {
  "interpreter": {
   "hash": "916dbcbb3f70747c44a77c7bcd40155683ae19c65e1c03b4aa3499c5328201f1"
  },
  "kernelspec": {
   "display_name": "Python 3.8.10 64-bit",
   "language": "python",
   "name": "python3"
  },
  "language_info": {
   "codemirror_mode": {
    "name": "ipython",
    "version": 3
   },
   "file_extension": ".py",
   "mimetype": "text/x-python",
   "name": "python",
   "nbconvert_exporter": "python",
   "pygments_lexer": "ipython3",
   "version": "3.8.10"
  },
  "orig_nbformat": 4
 },
 "nbformat": 4,
 "nbformat_minor": 2
}
